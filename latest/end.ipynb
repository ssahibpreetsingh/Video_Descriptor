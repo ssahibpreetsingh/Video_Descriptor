{
 "cells": [
  {
   "cell_type": "code",
   "execution_count": 4,
   "metadata": {},
   "outputs": [
    {
     "name": "stderr",
     "output_type": "stream",
     "text": [
      "Seed set to 42\n"
     ]
    }
   ],
   "source": [
    "from detect_activity_file import detect_activity\n",
    "from detect_background_file import detect_back\n",
    "# from detect_obj_file import detect_obj\n",
    "from gen_sentence_file import text_model"
   ]
  },
  {
   "cell_type": "code",
   "execution_count": 5,
   "metadata": {},
   "outputs": [
    {
     "name": "stdout",
     "output_type": "stream",
     "text": [
      "1/1 [==============================] - 3s 3s/step\n",
      "discotheque 0.24067898\n",
      "1/1 [==============================] - 1s 524ms/step\n",
      "beauty_salon 0.25120613\n",
      "1/1 [==============================] - 1s 578ms/step\n",
      "hospital_room 0.23126121\n",
      "1/1 [==============================] - 1s 525ms/step\n",
      "volleyball_court/outdoor 0.20112588\n",
      "1/1 [==============================] - 1s 546ms/step\n",
      "playground 0.2808468\n",
      "1/1 [==============================] - 1s 545ms/step\n",
      "hot_spring 0.19363455\n",
      "1/1 [==============================] - 1s 519ms/step\n",
      "athletic_field/outdoor 0.7029173\n",
      "1/1 [==============================] - 1s 537ms/step\n",
      "athletic_field/outdoor 0.98719084\n",
      "1/1 [==============================] - 1s 530ms/step\n",
      "athletic_field/outdoor 0.71570307\n",
      "1/1 [==============================] - 1s 539ms/step\n",
      "athletic_field/outdoor 0.9628431\n",
      "1/1 [==============================] - 1s 624ms/step\n",
      "athletic_field/outdoor 0.9874544\n",
      "1/1 [==============================] - 1s 597ms/step\n",
      "athletic_field/outdoor 0.98969907\n",
      "1/1 [==============================] - 1s 564ms/step\n",
      "corridor 0.9890675\n",
      "1/1 [==============================] - 1s 625ms/step\n",
      "corridor 0.9931028\n",
      "1/1 [==============================] - 1s 579ms/step\n",
      "corridor 0.99496055\n",
      "1/1 [==============================] - 1s 667ms/step\n",
      "corridor 0.99598676\n",
      "1/1 [==============================] - 1s 535ms/step\n",
      "corridor 0.99631196\n",
      "1/1 [==============================] - 1s 533ms/step\n",
      "corridor 0.9978672\n",
      "1/1 [==============================] - 1s 579ms/step\n",
      "boxing_ring 0.21576348\n",
      "1/1 [==============================] - 1s 539ms/step\n",
      "boxing_ring 0.8471259\n",
      "1/1 [==============================] - 1s 501ms/step\n",
      "boxing_ring 0.69400793\n",
      "1/1 [==============================] - 0s 492ms/step\n",
      "boxing_ring 0.5251305\n",
      "1/1 [==============================] - 1s 505ms/step\n",
      "martial_arts_gym 0.56653893\n",
      "1/1 [==============================] - 1s 623ms/step\n",
      "boxing_ring 0.7633412\n",
      "8.040000000000001 So dividing into 8 sub videos\n",
      "['Person Walking', 'Person Running', 'Person Exercising', 'Person Eating']\n",
      "tensor([0.09949, 0.09635, 0.10447, 0.69970]) Person Eating\n",
      "tensor([0.06609, 0.03885, 0.07016, 0.82490]) Person Eating\n",
      "tensor([0.13670, 0.66208, 0.12555, 0.07568]) Person Running\n",
      "tensor([0.08597, 0.70881, 0.09316, 0.11207]) Person Running\n",
      "tensor([0.59727, 0.16050, 0.17092, 0.07131]) Person Walking\n",
      "tensor([0.72155, 0.17350, 0.07948, 0.02548]) Person Walking\n",
      "tensor([0.11751, 0.09218, 0.48526, 0.30505]) Person Exercising\n",
      "tensor([0.00415, 0.03198, 0.88656, 0.07731]) Person Exercising\n"
     ]
    }
   ],
   "source": [
    "video_path=\"test3.mp4\"\n",
    "b=detect_back(video_path)\n",
    "# o=detect_obj(video_path)\n",
    "a=detect_activity(video_path)"
   ]
  },
  {
   "cell_type": "code",
   "execution_count": 6,
   "metadata": {},
   "outputs": [
    {
     "data": {
      "text/plain": [
       "[['', '', ''],\n",
       " ['', '', ''],\n",
       " ['athletic_field/outdoor',\n",
       "  'athletic_field/outdoor',\n",
       "  'athletic_field/outdoor'],\n",
       " ['athletic_field/outdoor',\n",
       "  'athletic_field/outdoor',\n",
       "  'athletic_field/outdoor'],\n",
       " ['corridor', 'corridor', 'corridor'],\n",
       " ['corridor', 'corridor', 'corridor'],\n",
       " ['', 'boxing_ring', 'boxing_ring'],\n",
       " ['boxing_ring', 'martial_arts_gym', 'boxing_ring']]"
      ]
     },
     "execution_count": 6,
     "metadata": {},
     "output_type": "execute_result"
    }
   ],
   "source": [
    "b"
   ]
  },
  {
   "cell_type": "code",
   "execution_count": 7,
   "metadata": {},
   "outputs": [
    {
     "data": {
      "text/plain": [
       "[['Person Eating', 'Person Eating', 'Person Eating'],\n",
       " ['Person Eating', 'Person Eating', 'Person Eating'],\n",
       " ['Person Running', 'Person Running', 'Person Running'],\n",
       " ['Person Running', 'Person Running', 'Person Running'],\n",
       " ['Person Walking', 'Person Walking', 'Person Walking'],\n",
       " ['Person Walking', 'Person Walking', 'Person Walking'],\n",
       " ['Person Exercising', 'Person Exercising', 'Person Exercising'],\n",
       " ['Person Exercising', 'Person Exercising', 'Person Exercising']]"
      ]
     },
     "execution_count": 7,
     "metadata": {},
     "output_type": "execute_result"
    }
   ],
   "source": [
    "a"
   ]
  },
  {
   "cell_type": "code",
   "execution_count": null,
   "metadata": {},
   "outputs": [],
   "source": []
  },
  {
   "cell_type": "code",
   "execution_count": 11,
   "metadata": {},
   "outputs": [
    {
     "name": "stdout",
     "output_type": "stream",
     "text": [
      "A person is eating for 3 seconds.\n",
      "A person is eating for 3 seconds.\n",
      "A person is running on an athletic_field/outdoor for 3 seconds.\n",
      "A person is running on an athletic_field/outdoor for 3 seconds.\n",
      "A person is walking down a corridor for 3 seconds.\n",
      "A person is walking down a corridor for 3 seconds.\n",
      "A person is exercising in a boxing ring for 1 second.\n",
      "A person is practicing martial arts in a boxing ring for a few seconds.\n"
     ]
    }
   ],
   "source": [
    "for i,j,k in zip(a,o,b):\n",
    "    obj=i[0].split()[0].lower()\n",
    "    count=j.count(obj)\n",
    "    words=[i[0],k,f\"for {count} seconds\"]\n",
    "    # print(words)\n",
    "    print(text_model(words))"
   ]
  },
  {
   "cell_type": "code",
   "execution_count": null,
   "metadata": {},
   "outputs": [],
   "source": []
  }
 ],
 "metadata": {
  "kernelspec": {
   "display_name": "Python 3",
   "language": "python",
   "name": "python3"
  },
  "language_info": {
   "codemirror_mode": {
    "name": "ipython",
    "version": 3
   },
   "file_extension": ".py",
   "mimetype": "text/x-python",
   "name": "python",
   "nbconvert_exporter": "python",
   "pygments_lexer": "ipython3",
   "version": "3.11.5"
  }
 },
 "nbformat": 4,
 "nbformat_minor": 2
}
