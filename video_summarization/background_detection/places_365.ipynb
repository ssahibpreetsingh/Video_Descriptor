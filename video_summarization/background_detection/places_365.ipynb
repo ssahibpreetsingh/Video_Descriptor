{
  "cells": [
    {
      "cell_type": "code",
      "execution_count": 7,
      "metadata": {
        "colab": {
          "base_uri": "https://localhost:8080/"
        },
        "id": "P0siLhB0M0JI",
        "outputId": "495caa89-3a0a-4433-9abd-3bce75813b1b"
      },
      "outputs": [
        {
          "name": "stdout",
          "output_type": "stream",
          "text": [
            "Collecting keras_applications\n",
            "  Downloading Keras_Applications-1.0.8-py3-none-any.whl (50 kB)\n",
            "\u001b[2K     \u001b[90m━━━━━━━━━━━━━━━━━━━━━━━━━━━━━━━━━━━━━━━━\u001b[0m \u001b[32m50.7/50.7 kB\u001b[0m \u001b[31m931.2 kB/s\u001b[0m eta \u001b[36m0:00:00\u001b[0m\n",
            "\u001b[?25hRequirement already satisfied: numpy>=1.9.1 in /usr/local/lib/python3.10/dist-packages (from keras_applications) (1.23.5)\n",
            "Requirement already satisfied: h5py in /usr/local/lib/python3.10/dist-packages (from keras_applications) (3.9.0)\n",
            "Installing collected packages: keras_applications\n",
            "Successfully installed keras_applications-1.0.8\n"
          ]
        }
      ],
      "source": [
        "! pip install keras_applications"
      ]
    },
    {
      "cell_type": "code",
      "execution_count": 13,
      "metadata": {
        "id": "btoeSA8EKn2l"
      },
      "outputs": [],
      "source": [
        "import os\n",
        "import numpy as np\n",
        "from PIL import Image\n",
        "from cv2 import resize\n",
        "\n",
        "from vgg16_places_365 import VGG16_Places365"
      ]
    },
    {
      "cell_type": "code",
      "execution_count": 14,
      "metadata": {
        "colab": {
          "base_uri": "https://localhost:8080/"
        },
        "id": "CIpVSMDwPuBI",
        "outputId": "025b6c1d-df95-4c8c-b43a-e3ccf2109f60"
      },
      "outputs": [
        {
          "name": "stdout",
          "output_type": "stream",
          "text": [
            "Downloading data from https://github.com/GKalliatakis/Keras-VGG16-places365/releases/download/v1.0/vgg16-places365_weights_tf_dim_ordering_tf_kernels.h5\n",
            "543085444/543085444 [==============================] - 4s 0us/step\n",
            "1/1 [==============================] - 1s 1s/step\n"
          ]
        }
      ],
      "source": [
        "TEST_IMAGE_URL = '/content/corridor.jpg'\n",
        "\n",
        "image = Image.open(TEST_IMAGE_URL)\n",
        "image = np.array(image, dtype=np.uint8)\n",
        "image = resize(image, (224, 224))\n",
        "image = np.expand_dims(image, 0)\n",
        "\n",
        "model = VGG16_Places365(weights='places')\n",
        "predictions_to_return = 5\n",
        "preds = model.predict(image)[0]\n",
        "top_preds = np.argsort(preds)[::-1][0:predictions_to_return]"
      ]
    },
    {
      "cell_type": "code",
      "execution_count": 15,
      "metadata": {
        "id": "kLe86sBaP7Sb"
      },
      "outputs": [],
      "source": [
        "# load the class label\n",
        "file_name = 'categories_places365.txt'\n",
        "if not os.access(file_name, os.W_OK):\n",
        "    synset_url = 'https://raw.githubusercontent.com/csailvision/places365/master/categories_places365.txt'\n",
        "    os.system('wget ' + synset_url)\n",
        "classes = list()\n",
        "with open(file_name) as class_file:\n",
        "    for line in class_file:\n",
        "        classes.append(line.strip().split(' ')[0][3:])\n",
        "classes = tuple(classes)"
      ]
    },
    {
      "cell_type": "code",
      "execution_count": 25,
      "metadata": {
        "colab": {
          "base_uri": "https://localhost:8080/"
        },
        "id": "JrKzd_DRQPgf",
        "outputId": "f4e5ccf9-a088-44b6-93b8-67d9284521f0"
      },
      "outputs": [
        {
          "name": "stdout",
          "output_type": "stream",
          "text": [
            "1/1 [==============================] - 1s 640ms/step\n"
          ]
        }
      ],
      "source": [
        "image = Image.open(\"stairs.jpg\")\n",
        "image = np.array(image, dtype=np.uint8)\n",
        "image = resize(image, (224, 224))\n",
        "image = np.expand_dims(image, 0)\n",
        "predictions_to_return = 5\n",
        "preds = model.predict(image)[0]\n",
        "top_preds = np.argsort(preds)[::-1][0:predictions_to_return]"
      ]
    },
    {
      "cell_type": "code",
      "execution_count": 26,
      "metadata": {
        "colab": {
          "base_uri": "https://localhost:8080/"
        },
        "id": "hS1hxW8cQo_u",
        "outputId": "5b3d89eb-3d76-4cc9-dea0-d2e4ced77f94"
      },
      "outputs": [
        {
          "data": {
            "text/plain": [
              "[0.015375632, 0.040682066, 0.1309515, 0.17901832, 0.5292153]"
            ]
          },
          "execution_count": 26,
          "metadata": {},
          "output_type": "execute_result"
        }
      ],
      "source": [
        "sorted(preds)[-5:]"
      ]
    },
    {
      "cell_type": "code",
      "execution_count": 27,
      "metadata": {
        "colab": {
          "base_uri": "https://localhost:8080/"
        },
        "id": "kkEWt2noKWLr",
        "outputId": "57091afa-5d6e-40b9-d4ba-d082d2319037"
      },
      "outputs": [
        {
          "name": "stdout",
          "output_type": "stream",
          "text": [
            "--SCENE CATEGORIES:\n",
            "staircase\n",
            "escalator/indoor\n",
            "rope_bridge\n",
            "bridge\n",
            "airport_terminal\n"
          ]
        }
      ],
      "source": [
        "print('--SCENE CATEGORIES:')\n",
        "# output the prediction\n",
        "for i in range(0, 5):\n",
        "    print(classes[top_preds[i]])"
      ]
    },
    {
      "cell_type": "code",
      "execution_count": null,
      "metadata": {
        "id": "vWDGyoJFLbqy"
      },
      "outputs": [],
      "source": []
    }
  ],
  "metadata": {
    "colab": {
      "provenance": []
    },
    "kernelspec": {
      "display_name": "Python 3",
      "name": "python3"
    },
    "language_info": {
      "name": "python"
    }
  },
  "nbformat": 4,
  "nbformat_minor": 0
}
