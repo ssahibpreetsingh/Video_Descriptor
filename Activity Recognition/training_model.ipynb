{
  "cells": [
    {
      "cell_type": "code",
      "execution_count": 1,
      "metadata": {
        "colab": {
          "base_uri": "https://localhost:8080/"
        },
        "id": "pe-p0uCjReVc",
        "outputId": "97708453-4345-43b6-a6a9-24146e6d2e4a"
      },
      "outputs": [
        {
          "name": "stdout",
          "output_type": "stream",
          "text": [
            "Mounted at /content/drive\n"
          ]
        }
      ],
      "source": [
        "from google.colab import drive\n",
        "drive.mount('/content/drive')"
      ]
    },
    {
      "cell_type": "code",
      "execution_count": 2,
      "metadata": {
        "id": "GgaUcwR5RfzP"
      },
      "outputs": [],
      "source": [
        "import torch\n",
        "import torchvision\n",
        "import cv2\n",
        "from torch import nn\n",
        "import os\n",
        "import numpy as np\n",
        "import pandas as pd\n",
        "import matplotlib.pyplot as plt\n",
        "import random\n",
        "from sklearn.model_selection import train_test_split\n",
        "import torchvision.transforms as tt\n",
        "import torch.nn.functional as F\n",
        "from torch.autograd import Variable\n",
        "from torch.utils.data import DataLoader, Dataset\n",
        "import torch.nn as nn\n",
        "from torchvision.models.video import r2plus1d_18, R2Plus1D_18_Weights\n",
        "from sklearn.metrics import accuracy_score"
      ]
    },
    {
      "cell_type": "code",
      "execution_count": 13,
      "metadata": {
        "id": "pa3ESkZiSCdP"
      },
      "outputs": [],
      "source": [
        "seed_constant = 27\n",
        "np.random.seed(seed_constant)\n",
        "random.seed(seed_constant)\n",
        "torch.random.seed= seed_constant\n",
        "\n",
        "BATCH_SIZE=5\n",
        "\n",
        "# Specify the height and width to which each video frame will be resized in our dataset.\n",
        "IMAGE_HEIGHT , IMAGE_WIDTH = 224, 224\n",
        "\n",
        "# Specify the number of frames of a video that will be fed to the model as one sequence.\n",
        "SEQUENCE_LENGTH = 9\n",
        "\n",
        "# Specify the directory containing the UCF50 dataset.\n",
        "DATASET_DIR = \"/content/drive/MyDrive/Project Videos\"\n",
        "\n",
        "# Specify the list containing the names of the classes used for training. Feel free to choose any set of classes.\n",
        "# CLASSES_LIST = [\"Diving\", \"Fencing\", \"Golf Swing\", \"Playing Guitar\",\"High Jump\",\n",
        "#                 \"Horse Riding\", \"Swing\", \"Punch\",\"Playing Violin\",\"Jump Rope\",\n",
        "#                 \"Basketball\",\"Shooting\"]\n",
        "CLASSES_LIST=['Person Walking','Person Running',\"Person Exercising\",\"Person Eating\"]\n"
      ]
    },
    {
      "cell_type": "markdown",
      "metadata": {
        "id": "LZghkOpvSSUe"
      },
      "source": [
        "## plotdf"
      ]
    },
    {
      "cell_type": "code",
      "execution_count": 14,
      "metadata": {
        "id": "5hAGNFcWSFBa"
      },
      "outputs": [],
      "source": [
        "# Set parameters for decoration of plots\n",
        "params = {'legend.fontsize' : 'large',\n",
        "          'figure.figsize'  : (12,9),\n",
        "          'axes.labelsize'  : 'x-large',\n",
        "          'axes.titlesize'  :'x-large',\n",
        "          'xtick.labelsize' :'large',\n",
        "          'ytick.labelsize' :'large',\n",
        "         }\n",
        "CMAP = plt.cm.brg\n",
        "\n",
        "plt.rcParams.update(params)"
      ]
    },
    {
      "cell_type": "code",
      "execution_count": 15,
      "metadata": {
        "id": "ivS94oF6SK-w"
      },
      "outputs": [],
      "source": [
        "###-----------------------------------\n",
        "### Function to plot Loss Curve\n",
        "###-----------------------------------\n",
        "\n",
        "def plot_tf_hist(hist_df):\n",
        "    '''    Args:\n",
        "      hist_df : pandas Dataframe with four columns\n",
        "                For 'x' values, we will use index\n",
        "    '''\n",
        "    fig, axes = plt.subplots(1,2 , figsize = (15,6))\n",
        "\n",
        "    # properties  matplotlib.patch.Patch\n",
        "    props = dict(boxstyle='round', facecolor='aqua', alpha=0.4)\n",
        "    facecolor = 'cyan'\n",
        "    fontsize=12\n",
        "\n",
        "    # Get columns by index to eliminate any column naming error\n",
        "    y1 = hist_df.columns[0]\n",
        "    y2 = hist_df.columns[1]\n",
        "    y3 = hist_df.columns[2]\n",
        "    y4 = hist_df.columns[3]\n",
        "\n",
        "    # Where was min loss\n",
        "    best = hist_df[hist_df[y3] == hist_df[y3].min()]\n",
        "\n",
        "    ax = axes[0]\n",
        "\n",
        "    hist_df.plot(y = [y1,y3], ax = ax, colormap=CMAP)\n",
        "\n",
        "\n",
        "    # little beautification\n",
        "    txtFmt = \"{}: \\n  train: {:6.4f}\\n   test: {:6.4f}\"\n",
        "    txtstr = txtFmt.format(y1.capitalize(),\n",
        "                           hist_df.iloc[-1][y1],\n",
        "                           hist_df.iloc[-1][y3]) #text to plot\n",
        "\n",
        "    # place a text box in upper middle in axes coords\n",
        "    ax.text(0.3, 0.95, txtstr, transform=ax.transAxes, fontsize=fontsize,\n",
        "            verticalalignment='top', bbox=props)\n",
        "\n",
        "    # Mark arrow at lowest\n",
        "    ax.annotate(f'Min: {best[y3].to_numpy()[0]:6.4f}', # text to print\n",
        "                xy=(best.index.to_numpy(), best[y3].to_numpy()[0]), # Arrow start\n",
        "                xytext=(best.index.to_numpy()-1, best[y3].to_numpy()[0]), # location of text\n",
        "                fontsize=fontsize, va='bottom', ha='right',bbox=props, # beautification of text\n",
        "                arrowprops=dict(facecolor=facecolor, shrink=0.05)) # arrow\n",
        "\n",
        "    # Draw vertical line at best value\n",
        "    ax.axvline(x = best.index.to_numpy(), color = 'green', linestyle='-.', lw = 3);\n",
        "\n",
        "    ax.set_xlabel(\"Epochs\")\n",
        "    ax.set_ylabel(y1.capitalize())\n",
        "    ax.set_title('Errors')\n",
        "    ax.grid();\n",
        "    ax.legend(loc = 'upper left') # model legend to upper left\n",
        "\n",
        "    ax = axes[1]\n",
        "\n",
        "    hist_df.plot( y = [y2, y4], ax = ax, colormap=CMAP)\n",
        "\n",
        "    # little beautification\n",
        "    txtFmt = \"{}: \\n  train: {:6.4f}\\n  test:  {:6.4f}\"\n",
        "    txtstr = txtFmt.format(y2.capitalize(),\n",
        "                           hist_df.iloc[-1][y2],\n",
        "                           hist_df.iloc[-1][y4]) #text to plot\n",
        "\n",
        "    # place a text box in upper middle in axes coords\n",
        "    ax.text(0.3, 0.2, txtstr, transform=ax.transAxes, fontsize=fontsize,\n",
        "            verticalalignment='top', bbox=props)\n",
        "\n",
        "    # Mark arrow at lowest\n",
        "    ax.annotate(f'Best: {best[y4].to_numpy()[0]:6.4f}', # text to print\n",
        "                xy=(best.index.to_numpy(), best[y4].to_numpy()[0]), # Arrow start\n",
        "                xytext=(best.index.to_numpy()-1, best[y4].to_numpy()[0]), # location of text\n",
        "                fontsize=fontsize, va='bottom', ha='right',bbox=props, # beautification of text\n",
        "                arrowprops=dict(facecolor=facecolor, shrink=0.05)) # arrow\n",
        "\n",
        "\n",
        "    # Draw vertical line at best value\n",
        "    ax.axvline(x = best.index.to_numpy(), color = 'green', linestyle='-.', lw = 3);\n",
        "\n",
        "    ax.set_xlabel(\"Epochs\")\n",
        "    ax.set_ylabel(y2.capitalize())\n",
        "    ax.grid()\n",
        "    ax.legend(loc = 'lower left')\n",
        "\n",
        "    plt.tight_layout()"
      ]
    },
    {
      "cell_type": "markdown",
      "metadata": {
        "id": "wcYJ_FeeSPaN"
      },
      "source": [
        "## Preprocess"
      ]
    },
    {
      "cell_type": "code",
      "execution_count": 16,
      "metadata": {
        "id": "-1T_v-u4SOH4"
      },
      "outputs": [],
      "source": [
        "def frames_extraction(video_path,abn=False):\n",
        "    '''\n",
        "    This function will extract the required frames from a video after resizing and normalizing them.\n",
        "    Args:\n",
        "        video_path: The path of the video in the disk, whose frames are to be extracted.\n",
        "    Returns:\n",
        "        frames_list: A list containing the resized and normalized frames of the video.\n",
        "    '''\n",
        "\n",
        "    # Declare a list to store video frames.\n",
        "    frames_list = []\n",
        "\n",
        "    # Read the Video File using the VideoCapture object.\n",
        "    video_reader = cv2.VideoCapture(video_path)\n",
        "\n",
        "    # Get the total number of frames in the video.\n",
        "    video_frames_count = int(video_reader.get(cv2.CAP_PROP_FRAME_COUNT))\n",
        "\n",
        "    # Find FPS\n",
        "    FPS=video_reader.get(cv2.CAP_PROP_FPS)\n",
        "\n",
        "    # Calculate the the interval after which frames will be added to the list.\n",
        "    skip_frames_window = max(int(3*FPS/SEQUENCE_LENGTH), 1)\n",
        "\n",
        "    # Iterate through the Video Frames.\n",
        "    for frame_counter in range(SEQUENCE_LENGTH):\n",
        "        if abn:\n",
        "           # Set the current frame position of the video.\n",
        "           video_reader.set(cv2.CAP_PROP_POS_FRAMES+int(3*FPS), frame_counter * skip_frames_window)\n",
        "        else:\n",
        "           video_reader.set(cv2.CAP_PROP_POS_FRAMES, frame_counter * skip_frames_window)\n",
        "        # Reading the frame from the video.\n",
        "        success, frame = video_reader.read()\n",
        "\n",
        "        # Check if Video frame is not successfully read then break the loop\n",
        "        if not success:\n",
        "            break\n",
        "\n",
        "        # Resize the Frame to fixed height and width.\n",
        "        resized_frame = cv2.resize(frame, (IMAGE_HEIGHT, IMAGE_WIDTH))\n",
        "\n",
        "        # Normalize the resized frame by dividing it with 255 so that each pixel value then lies between 0 and 1\n",
        "        normalized_frame = resized_frame / 255\n",
        "\n",
        "        # Append the normalized frame into the frames list\n",
        "        frames_list.append(normalized_frame)\n",
        "\n",
        "    # Release the VideoCapture object.\n",
        "    video_reader.release()\n",
        "\n",
        "    # Return the frames list.\n",
        "    return frames_list"
      ]
    },
    {
      "cell_type": "code",
      "execution_count": 17,
      "metadata": {
        "id": "68UcUeoOSbr3"
      },
      "outputs": [],
      "source": [
        "def create_dataset():\n",
        "    '''\n",
        "    This function will extract the data of the selected classes and create the required dataset.\n",
        "    Returns:\n",
        "        features:          A list containing the extracted frames of the videos.\n",
        "        labels:            A list containing the indexes of the classes associated with the videos.\n",
        "        video_files_paths: A list containing the paths of the videos in the disk.\n",
        "    '''\n",
        "\n",
        "    # Declared Empty Lists to store the features, labels and video file path values.\n",
        "    features = []\n",
        "    labels = []\n",
        "    video_files_paths = []\n",
        "\n",
        "    # Iterating through all the classes mentioned in the classes list\n",
        "    for class_index, class_name in enumerate(CLASSES_LIST):\n",
        "\n",
        "        # Display the name of the class whose data is being extracted.\n",
        "        print(f'Extracting Data of Class: {class_name}')\n",
        "\n",
        "        # Get the list of video files present in the specific class name directory.\n",
        "        files_list = os.listdir(os.path.join(DATASET_DIR, class_name))\n",
        "\n",
        "        # Iterate through all the files present in the files list.\n",
        "        counter=0\n",
        "        abn=True if class_name==\"Person Exercising\" else False\n",
        "\n",
        "        for file_name in files_list[:20]:\n",
        "            # Get the complete video path.\n",
        "            video_file_path = os.path.join(DATASET_DIR, class_name, file_name)\n",
        "\n",
        "            # Extract the frames of the video file.\n",
        "            frames = frames_extraction(video_file_path,abn)\n",
        "\n",
        "            # Check if the extracted frames are equal to the SEQUENCE_LENGTH specified above.\n",
        "            # So ignore the vides having frames less than the SEQUENCE_LENGTH.\n",
        "            if len(frames) == SEQUENCE_LENGTH:\n",
        "\n",
        "                # Append the data to their repective lists.\n",
        "                features.append(frames)\n",
        "                labels.append(class_index)\n",
        "                video_files_paths.append(video_file_path)\n",
        "\n",
        "    # Converting the list to numpy arrays\n",
        "    features = np.asarray(features)\n",
        "    labels = np.array(labels)\n",
        "\n",
        "    # Return the frames, class index, and video file path.\n",
        "    return features, labels, video_files_paths"
      ]
    },
    {
      "cell_type": "code",
      "execution_count": 18,
      "metadata": {
        "colab": {
          "base_uri": "https://localhost:8080/"
        },
        "id": "T-rQ2y1RSdt1",
        "outputId": "fc424282-b995-48aa-f865-45ab0bb82dae"
      },
      "outputs": [
        {
          "name": "stdout",
          "output_type": "stream",
          "text": [
            "Extracting Data of Class: Person Walking\n",
            "Extracting Data of Class: Person Running\n",
            "Extracting Data of Class: Person Exercising\n",
            "Extracting Data of Class: Person Eating\n"
          ]
        }
      ],
      "source": [
        "# Create the dataset.\n",
        "features, labels, video_files_paths = create_dataset()"
      ]
    },
    {
      "cell_type": "code",
      "execution_count": 19,
      "metadata": {
        "colab": {
          "base_uri": "https://localhost:8080/"
        },
        "id": "ISbQS4fCD9FX",
        "outputId": "089e7a36-c157-44b7-f0cb-09f71a80599a"
      },
      "outputs": [
        {
          "data": {
            "text/plain": [
              "array([0, 0, 0, 0, 0, 0, 0, 0, 0, 0, 0, 0, 0, 0, 0, 0, 0, 0, 0, 0, 1, 1,\n",
              "       1, 1, 1, 1, 1, 1, 1, 1, 1, 1, 1, 1, 1, 1, 1, 1, 1, 1, 2, 2, 2, 2,\n",
              "       2, 2, 2, 2, 2, 2, 2, 2, 2, 2, 2, 2, 2, 2, 2, 2, 3, 3, 3, 3, 3, 3,\n",
              "       3, 3, 3, 3, 3, 3, 3, 3, 3, 3, 3, 3, 3])"
            ]
          },
          "execution_count": 19,
          "metadata": {},
          "output_type": "execute_result"
        }
      ],
      "source": [
        "labels"
      ]
    },
    {
      "cell_type": "code",
      "execution_count": 20,
      "metadata": {
        "colab": {
          "base_uri": "https://localhost:8080/"
        },
        "id": "YR06Y_CUEw_B",
        "outputId": "cbb24615-02e0-406a-c1b8-1986b918d5fd"
      },
      "outputs": [
        {
          "data": {
            "text/plain": [
              "79"
            ]
          },
          "execution_count": 20,
          "metadata": {},
          "output_type": "execute_result"
        }
      ],
      "source": [
        "len(features)"
      ]
    },
    {
      "cell_type": "code",
      "execution_count": 21,
      "metadata": {
        "id": "5k8butmLT-4B"
      },
      "outputs": [],
      "source": [
        "# transforms required by r2plus1d model\n",
        "r21d_trans=tt.Compose([R2Plus1D_18_Weights.KINETICS400_V1.transforms()])"
      ]
    },
    {
      "cell_type": "code",
      "execution_count": 22,
      "metadata": {
        "id": "3es7vVcNUfRM"
      },
      "outputs": [],
      "source": [
        "# functions to apply transforms to each frame\n",
        "def apply_tansforms(feat):\n",
        "\n",
        "  # list to store transformed frames\n",
        "  feats=[]\n",
        "  for i in range(len(feat)):\n",
        "\n",
        "      #converting to array and reshaping in required format\n",
        "      x=np.transpose(np.array(feat[i]), (0,3,1,2))\n",
        "      # convertin to tensor to apply transforms\n",
        "      a=torch.Tensor(x)\n",
        "      # apply transforms and append to the list\n",
        "      feats.append(r21d_trans(a))\n",
        "  return feats"
      ]
    },
    {
      "cell_type": "code",
      "execution_count": 23,
      "metadata": {
        "id": "SAyYF-XYUgZu"
      },
      "outputs": [],
      "source": [
        "# getting list of frames in form of tensors\n",
        "feats=apply_tansforms(features)"
      ]
    },
    {
      "cell_type": "code",
      "execution_count": 24,
      "metadata": {
        "colab": {
          "base_uri": "https://localhost:8080/"
        },
        "id": "Lua4Nd6OUihr",
        "outputId": "932855f8-9c1a-4914-d44a-58a3fdfe1de8"
      },
      "outputs": [
        {
          "data": {
            "text/plain": [
              "torch.Size([79])"
            ]
          },
          "execution_count": 24,
          "metadata": {},
          "output_type": "execute_result"
        }
      ],
      "source": [
        "labels=torch.tensor(labels)\n",
        "labels.shape"
      ]
    },
    {
      "cell_type": "code",
      "execution_count": 25,
      "metadata": {
        "colab": {
          "base_uri": "https://localhost:8080/"
        },
        "id": "h3xDbfIWUlVo",
        "outputId": "9c688d2e-eb46-4c9b-d8ab-5fc6e4f5c23f"
      },
      "outputs": [
        {
          "data": {
            "text/plain": [
              "79"
            ]
          },
          "execution_count": 25,
          "metadata": {},
          "output_type": "execute_result"
        }
      ],
      "source": [
        "# just verifying\n",
        "len(feats)"
      ]
    },
    {
      "cell_type": "code",
      "execution_count": 303,
      "metadata": {
        "id": "T5y3UzIxUnAp"
      },
      "outputs": [],
      "source": [
        "# applying train test split\n",
        "x_train,x_test,y_train,y_test=train_test_split(feats,labels,stratify=labels,test_size=0.25,shuffle=True,random_state=seed_constant)"
      ]
    },
    {
      "cell_type": "code",
      "execution_count": 304,
      "metadata": {
        "colab": {
          "base_uri": "https://localhost:8080/"
        },
        "id": "s_eYxAR1UtFD",
        "outputId": "518e8960-a77d-48ee-c798-98e82875fcbe"
      },
      "outputs": [
        {
          "data": {
            "text/plain": [
              "59"
            ]
          },
          "execution_count": 304,
          "metadata": {},
          "output_type": "execute_result"
        }
      ],
      "source": [
        "len(x_train)"
      ]
    },
    {
      "cell_type": "code",
      "execution_count": 305,
      "metadata": {
        "colab": {
          "base_uri": "https://localhost:8080/"
        },
        "id": "-VmXXQLLUtuA",
        "outputId": "3a4a03a8-6c04-462b-8251-0509f95290ea"
      },
      "outputs": [
        {
          "name": "stdout",
          "output_type": "stream",
          "text": [
            "Using cuda device\n"
          ]
        }
      ],
      "source": [
        "# checking device\n",
        "device = \"cuda\" if torch.cuda.is_available() else \"cpu\"\n",
        "\n",
        "print(f\"Using {device} device\")"
      ]
    },
    {
      "cell_type": "code",
      "execution_count": 306,
      "metadata": {
        "id": "RAm3BJO6U0bB"
      },
      "outputs": [],
      "source": [
        "# creating classes for creating custom dataset\n",
        "class ActivityDS(Dataset):\n",
        "    def __init__(self, featuress,labelss, device = device):\n",
        "        self.features = featuress\n",
        "        self.device = device\n",
        "        self.labels = labelss\n",
        "\n",
        "    def __len__(self):\n",
        "        return len(self.labels)\n",
        "\n",
        "    def __getitem__(self, index):\n",
        "        # Extract features and label from the features and labels lists\n",
        "        features = self.features[index]\n",
        "        labels = self.labels[index]\n",
        "\n",
        "        # put features and labels onto device\n",
        "        features = features.to(device)\n",
        "        labels = labels.to(device)\n",
        "\n",
        "        return features, labels"
      ]
    },
    {
      "cell_type": "code",
      "execution_count": 307,
      "metadata": {
        "id": "QsTWbIEzU0YE"
      },
      "outputs": [],
      "source": [
        "# creating training andtesting datasets\n",
        "train_ds = ActivityDS(x_train,y_train)\n",
        "test_ds = ActivityDS(x_test,y_test)"
      ]
    },
    {
      "cell_type": "code",
      "execution_count": 308,
      "metadata": {
        "colab": {
          "base_uri": "https://localhost:8080/"
        },
        "id": "EvccCO4hU0VO",
        "outputId": "444d0f04-58cb-41fa-ecf1-e7df43931b0e"
      },
      "outputs": [
        {
          "name": "stdout",
          "output_type": "stream",
          "text": [
            "torch.Size([3, 9, 112, 112])\n"
          ]
        }
      ],
      "source": [
        "# checking the shape of each frame\n",
        "for i in x_train:\n",
        "  print(i.shape)\n",
        "  break"
      ]
    },
    {
      "cell_type": "code",
      "execution_count": 389,
      "metadata": {
        "colab": {
          "base_uri": "https://localhost:8080/"
        },
        "id": "NnveUR3zMl37",
        "outputId": "508a0d86-771a-4029-b744-e86f8f6588c5"
      },
      "outputs": [
        {
          "data": {
            "text/plain": [
              "(59, 20)"
            ]
          },
          "execution_count": 389,
          "metadata": {},
          "output_type": "execute_result"
        }
      ],
      "source": [
        "len(train_ds),len(test_ds)"
      ]
    },
    {
      "cell_type": "code",
      "execution_count": 414,
      "metadata": {
        "id": "cZMGBzWZoP72"
      },
      "outputs": [],
      "source": [
        "BATCH_SIZE=30"
      ]
    },
    {
      "cell_type": "code",
      "execution_count": 415,
      "metadata": {
        "id": "n_REMInDU0SY"
      },
      "outputs": [],
      "source": [
        "# Define data loaders for the training and testing datasets\n",
        "train_loader = DataLoader(train_ds, batch_size=BATCH_SIZE, shuffle=True)\n",
        "test_loader  = DataLoader(test_ds, batch_size=20, shuffle=False)"
      ]
    },
    {
      "cell_type": "code",
      "execution_count": 416,
      "metadata": {
        "id": "ZELnPveTmhG0"
      },
      "outputs": [],
      "source": [
        "# keeping default weights i.e. for Kinetics dataset\n",
        "weights=R2Plus1D_18_Weights.DEFAULT\n",
        "# Initializing the model\n",
        "r21d=r2plus1d_18(weights=weights,progress=True)"
      ]
    },
    {
      "cell_type": "code",
      "execution_count": 417,
      "metadata": {
        "id": "o981VTUtU0Ms"
      },
      "outputs": [],
      "source": [
        "from torchvision.models.video import r2plus1d_18, R2Plus1D_18_Weights\n",
        "# keeping default weights i.e. for Kinetics dataset\n",
        "weights=R2Plus1D_18_Weights.DEFAULT\n",
        "# Initializing the model\n",
        "r21d=r2plus1d_18(weights=weights,progress=True)\n",
        "# chaning the output features to match our requirement\n",
        "in_fc=r21d.fc.in_features\n",
        "r21d.fc=nn.Linear(in_fc,4,bias=True)\n",
        "\n",
        "# Freezing all weights except classifier weights and biases, So we will only be training classifier and not the main part\n",
        "for param in r21d.parameters():\n",
        "   param.requires_grad=False\n",
        "r21d.fc.weight.requires_grad = True\n",
        "r21d.fc.bias.requires_grad = True\n",
        "\n",
        "# putting model on gpu\n",
        "model=r21d.to(device)\n",
        "\n",
        "# Defining optimizer, Loss function, Epochs for model fiting\n",
        "EPOCHS=50\n",
        "optimizer = torch.optim.Adam(filter(lambda p: p.requires_grad, model.parameters()),weight_decay=0.008) # only update parameters which are not freezed\n",
        "loss_fn = nn.CrossEntropyLoss()"
      ]
    },
    {
      "cell_type": "code",
      "execution_count": 420,
      "metadata": {
        "colab": {
          "base_uri": "https://localhost:8080/"
        },
        "id": "AYJDDErX6xEc",
        "outputId": "7103933f-230c-4b8a-a3a2-3a2404a45caf"
      },
      "outputs": [
        {
          "data": {
            "text/plain": [
              "Linear(in_features=512, out_features=4, bias=True)"
            ]
          },
          "execution_count": 420,
          "metadata": {},
          "output_type": "execute_result"
        }
      ],
      "source": [
        "r21d.fc"
      ]
    },
    {
      "cell_type": "code",
      "execution_count": 423,
      "metadata": {
        "id": "PqKddqIA7JxW"
      },
      "outputs": [],
      "source": [
        "# del model,optimizer"
      ]
    },
    {
      "cell_type": "code",
      "execution_count": 424,
      "metadata": {
        "id": "iECU1Ze4U0HJ"
      },
      "outputs": [],
      "source": [
        "# putting model on gpu\n",
        "model=r21d.to(device)"
      ]
    },
    {
      "cell_type": "code",
      "execution_count": 425,
      "metadata": {
        "id": "EqoLTGH_U0Bl"
      },
      "outputs": [],
      "source": [
        "\n",
        "# Defining optimizer, Loss function, Epochs for model fiting\n",
        "EPOCHS=50\n",
        "optimizer = torch.optim.Adam(filter(lambda p: p.requires_grad, model.parameters()),weight_decay=0.008) # only update parameters which are not freezed\n",
        "loss_fn = nn.CrossEntropyLoss()"
      ]
    },
    {
      "cell_type": "code",
      "execution_count": 426,
      "metadata": {
        "colab": {
          "base_uri": "https://localhost:8080/"
        },
        "id": "u_eAuT5sUz-3",
        "outputId": "eeadf403-8acf-4d8e-cffb-88bcb5cf12bc"
      },
      "outputs": [
        {
          "name": "stdout",
          "output_type": "stream",
          "text": [
            "At epoch 0 | Loss - train:1.3720, test:1.2804 | Acc - train:0.2881, test:0.4000\n",
            "At epoch 1 | Loss - train:1.2693, test:1.2444 | Acc - train:0.5254, test:0.4500\n",
            "At epoch 2 | Loss - train:1.2011, test:1.2163 | Acc - train:0.5932, test:0.4500\n",
            "At epoch 3 | Loss - train:1.1489, test:1.1614 | Acc - train:0.5763, test:0.5000\n",
            "At epoch 4 | Loss - train:1.0498, test:1.1141 | Acc - train:0.7458, test:0.6000\n",
            "At epoch 5 | Loss - train:0.9848, test:1.0802 | Acc - train:0.8305, test:0.6000\n",
            "At epoch 6 | Loss - train:0.9104, test:1.0503 | Acc - train:0.8305, test:0.6500\n",
            "At epoch 7 | Loss - train:0.8800, test:1.0199 | Acc - train:0.8475, test:0.7000\n",
            "At epoch 8 | Loss - train:0.8142, test:0.9887 | Acc - train:0.9153, test:0.7500\n",
            "At epoch 9 | Loss - train:0.7629, test:0.9588 | Acc - train:0.9492, test:0.6500\n",
            "At epoch 10 | Loss - train:0.7140, test:0.9354 | Acc - train:0.9322, test:0.7500\n",
            "At epoch 11 | Loss - train:0.6775, test:0.9132 | Acc - train:0.9492, test:0.7000\n",
            "At epoch 12 | Loss - train:0.6876, test:0.8912 | Acc - train:0.9153, test:0.8000\n",
            "At epoch 13 | Loss - train:0.6031, test:0.8715 | Acc - train:0.9661, test:0.8000\n",
            "At epoch 14 | Loss - train:0.5851, test:0.8545 | Acc - train:0.9492, test:0.8000\n",
            "At epoch 15 | Loss - train:0.5438, test:0.8426 | Acc - train:0.9661, test:0.7000\n",
            "At epoch 16 | Loss - train:0.5410, test:0.8307 | Acc - train:0.9492, test:0.7000\n",
            "At epoch 17 | Loss - train:0.4961, test:0.8158 | Acc - train:0.9831, test:0.7500\n",
            "At epoch 18 | Loss - train:0.4777, test:0.8018 | Acc - train:0.9492, test:0.7500\n",
            "At epoch 19 | Loss - train:0.4589, test:0.7873 | Acc - train:0.9831, test:0.7500\n",
            "At epoch 20 | Loss - train:0.4231, test:0.7760 | Acc - train:0.9492, test:0.7500\n",
            "At epoch 21 | Loss - train:0.4141, test:0.7671 | Acc - train:1.0000, test:0.8000\n",
            "At epoch 22 | Loss - train:0.4129, test:0.7587 | Acc - train:1.0000, test:0.8000\n",
            "At epoch 23 | Loss - train:0.3759, test:0.7538 | Acc - train:0.9831, test:0.8500\n",
            "At epoch 24 | Loss - train:0.3590, test:0.7483 | Acc - train:1.0000, test:0.8000\n",
            "At epoch 25 | Loss - train:0.3717, test:0.7404 | Acc - train:1.0000, test:0.8000\n",
            "At epoch 26 | Loss - train:0.3348, test:0.7327 | Acc - train:1.0000, test:0.8000\n",
            "At epoch 27 | Loss - train:0.3193, test:0.7261 | Acc - train:1.0000, test:0.8000\n",
            "At epoch 28 | Loss - train:0.3480, test:0.7199 | Acc - train:1.0000, test:0.8000\n",
            "At epoch 29 | Loss - train:0.3018, test:0.7155 | Acc - train:1.0000, test:0.8000\n",
            "At epoch 30 | Loss - train:0.2878, test:0.7110 | Acc - train:0.9831, test:0.8000\n",
            "At epoch 31 | Loss - train:0.2726, test:0.7066 | Acc - train:1.0000, test:0.7500\n",
            "At epoch 32 | Loss - train:0.2678, test:0.7028 | Acc - train:0.9831, test:0.7500\n",
            "At epoch 33 | Loss - train:0.2570, test:0.7007 | Acc - train:1.0000, test:0.8000\n",
            "At epoch 34 | Loss - train:0.2650, test:0.6985 | Acc - train:1.0000, test:0.8000\n",
            "At epoch 35 | Loss - train:0.2440, test:0.6949 | Acc - train:1.0000, test:0.8000\n",
            "At epoch 36 | Loss - train:0.2516, test:0.6926 | Acc - train:1.0000, test:0.8000\n",
            "At epoch 37 | Loss - train:0.2341, test:0.6895 | Acc - train:1.0000, test:0.8000\n",
            "At epoch 38 | Loss - train:0.2228, test:0.6865 | Acc - train:1.0000, test:0.8000\n",
            "At epoch 39 | Loss - train:0.2264, test:0.6839 | Acc - train:1.0000, test:0.8000\n",
            "At epoch 40 | Loss - train:0.2275, test:0.6810 | Acc - train:1.0000, test:0.8000\n",
            "At epoch 41 | Loss - train:0.2185, test:0.6782 | Acc - train:0.9831, test:0.8000\n",
            "At epoch 42 | Loss - train:0.2030, test:0.6776 | Acc - train:1.0000, test:0.8000\n",
            "At epoch 43 | Loss - train:0.2046, test:0.6781 | Acc - train:1.0000, test:0.8000\n",
            "At epoch 44 | Loss - train:0.1989, test:0.6743 | Acc - train:1.0000, test:0.8000\n",
            "At epoch 45 | Loss - train:0.1888, test:0.6728 | Acc - train:1.0000, test:0.8000\n",
            "At epoch 46 | Loss - train:0.1794, test:0.6728 | Acc - train:1.0000, test:0.8000\n",
            "At epoch 47 | Loss - train:0.1974, test:0.6712 | Acc - train:1.0000, test:0.8000\n",
            "At epoch 48 | Loss - train:0.1811, test:0.6707 | Acc - train:1.0000, test:0.8000\n",
            "At epoch 49 | Loss - train:0.1745, test:0.6705 | Acc - train:1.0000, test:0.8000\n"
          ]
        }
      ],
      "source": [
        "# Define the loss function and optimizer\n",
        "loss_fn = nn.CrossEntropyLoss() # cross entropy loss\n",
        "\n",
        "loss, tloss = [],[]\n",
        "acc, tacc = [],[]\n",
        "n_epoch = []\n",
        "\n",
        "# Train the model for multiple epochs\n",
        "\n",
        "for epoch in range(EPOCHS):\n",
        "\n",
        "    # Training loop\n",
        "    train_loss = 0.0\n",
        "    train_acc = 0.0\n",
        "\n",
        "    for i, data in enumerate(train_loader):\n",
        "\n",
        "        inputs, targets = data\n",
        "\n",
        "        optimizer.zero_grad()\n",
        "\n",
        "        outputs = model(inputs)\n",
        "\n",
        "        preds = torch.argmax(outputs, dim = 1)\n",
        "\n",
        "        batch_loss = loss_fn(outputs, targets)\n",
        "        batch_acc = accuracy_score(targets.cpu().numpy(), preds.cpu().numpy())\n",
        "\n",
        "        batch_loss.backward()\n",
        "\n",
        "        optimizer.step()\n",
        "\n",
        "        train_loss += batch_loss.item() * inputs.size(0)\n",
        "        train_acc += batch_acc * inputs.size(0)\n",
        "\n",
        "    train_loss /= len(train_ds)\n",
        "    train_acc /= len(train_ds)\n",
        "\n",
        "    loss.append(train_loss)\n",
        "    acc.append(train_acc)\n",
        "\n",
        "    # Testing loop\n",
        "    test_loss = 0.0\n",
        "    test_acc = 0.0\n",
        "\n",
        "    with torch.no_grad():\n",
        "\n",
        "        for data in test_loader:\n",
        "\n",
        "            inputs, targets = data\n",
        "\n",
        "            outputs = model(inputs)\n",
        "\n",
        "            preds = torch.argmax(outputs, dim = 1)\n",
        "\n",
        "            batch_loss = loss_fn(outputs, targets)\n",
        "\n",
        "            batch_acc = accuracy_score(targets.cpu().numpy(), preds.cpu().numpy())\n",
        "\n",
        "            test_loss += batch_loss.item() * inputs.size(0)\n",
        "            test_acc += batch_acc* inputs.size(0)\n",
        "\n",
        "        test_loss /= len(test_ds)\n",
        "        test_acc /= len(test_ds)\n",
        "\n",
        "        tloss.append(test_loss)\n",
        "        tacc.append(test_acc)\n",
        "    n_epoch.append(epoch)\n",
        "\n",
        "    print(f'At epoch {epoch} | Loss - train:{train_loss:.4f}, test:{test_loss:.4f} | Acc - train:{train_acc:.4f}, test:{test_acc:.4f}')"
      ]
    },
    {
      "cell_type": "code",
      "execution_count": 427,
      "metadata": {
        "colab": {
          "base_uri": "https://localhost:8080/",
          "height": 1000
        },
        "id": "9vB1ep5FUz8A",
        "outputId": "b0b82cd9-3d0d-454d-c89e-c76d595147f4"
      },
      "outputs": [
        {
          "data": {
            "text/html": [
              "\n",
              "  <div id=\"df-d932c095-a803-4ac3-a9a3-57b27b579fd5\" class=\"colab-df-container\">\n",
              "    <div>\n",
              "<style scoped>\n",
              "    .dataframe tbody tr th:only-of-type {\n",
              "        vertical-align: middle;\n",
              "    }\n",
              "\n",
              "    .dataframe tbody tr th {\n",
              "        vertical-align: top;\n",
              "    }\n",
              "\n",
              "    .dataframe thead th {\n",
              "        text-align: right;\n",
              "    }\n",
              "</style>\n",
              "<table border=\"1\" class=\"dataframe\">\n",
              "  <thead>\n",
              "    <tr style=\"text-align: right;\">\n",
              "      <th></th>\n",
              "      <th>loss</th>\n",
              "      <th>acc</th>\n",
              "      <th>val_loss</th>\n",
              "      <th>val_acc</th>\n",
              "    </tr>\n",
              "  </thead>\n",
              "  <tbody>\n",
              "    <tr>\n",
              "      <th>0</th>\n",
              "      <td>1.372013</td>\n",
              "      <td>0.288136</td>\n",
              "      <td>1.280357</td>\n",
              "      <td>0.40</td>\n",
              "    </tr>\n",
              "    <tr>\n",
              "      <th>1</th>\n",
              "      <td>1.269326</td>\n",
              "      <td>0.525424</td>\n",
              "      <td>1.244354</td>\n",
              "      <td>0.45</td>\n",
              "    </tr>\n",
              "    <tr>\n",
              "      <th>2</th>\n",
              "      <td>1.201089</td>\n",
              "      <td>0.593220</td>\n",
              "      <td>1.216314</td>\n",
              "      <td>0.45</td>\n",
              "    </tr>\n",
              "    <tr>\n",
              "      <th>3</th>\n",
              "      <td>1.148921</td>\n",
              "      <td>0.576271</td>\n",
              "      <td>1.161415</td>\n",
              "      <td>0.50</td>\n",
              "    </tr>\n",
              "    <tr>\n",
              "      <th>4</th>\n",
              "      <td>1.049823</td>\n",
              "      <td>0.745763</td>\n",
              "      <td>1.114087</td>\n",
              "      <td>0.60</td>\n",
              "    </tr>\n",
              "    <tr>\n",
              "      <th>5</th>\n",
              "      <td>0.984806</td>\n",
              "      <td>0.830508</td>\n",
              "      <td>1.080170</td>\n",
              "      <td>0.60</td>\n",
              "    </tr>\n",
              "    <tr>\n",
              "      <th>6</th>\n",
              "      <td>0.910411</td>\n",
              "      <td>0.830508</td>\n",
              "      <td>1.050297</td>\n",
              "      <td>0.65</td>\n",
              "    </tr>\n",
              "    <tr>\n",
              "      <th>7</th>\n",
              "      <td>0.879961</td>\n",
              "      <td>0.847458</td>\n",
              "      <td>1.019923</td>\n",
              "      <td>0.70</td>\n",
              "    </tr>\n",
              "    <tr>\n",
              "      <th>8</th>\n",
              "      <td>0.814205</td>\n",
              "      <td>0.915254</td>\n",
              "      <td>0.988746</td>\n",
              "      <td>0.75</td>\n",
              "    </tr>\n",
              "    <tr>\n",
              "      <th>9</th>\n",
              "      <td>0.762935</td>\n",
              "      <td>0.949153</td>\n",
              "      <td>0.958785</td>\n",
              "      <td>0.65</td>\n",
              "    </tr>\n",
              "    <tr>\n",
              "      <th>10</th>\n",
              "      <td>0.714020</td>\n",
              "      <td>0.932203</td>\n",
              "      <td>0.935375</td>\n",
              "      <td>0.75</td>\n",
              "    </tr>\n",
              "    <tr>\n",
              "      <th>11</th>\n",
              "      <td>0.677488</td>\n",
              "      <td>0.949153</td>\n",
              "      <td>0.913213</td>\n",
              "      <td>0.70</td>\n",
              "    </tr>\n",
              "    <tr>\n",
              "      <th>12</th>\n",
              "      <td>0.687586</td>\n",
              "      <td>0.915254</td>\n",
              "      <td>0.891234</td>\n",
              "      <td>0.80</td>\n",
              "    </tr>\n",
              "    <tr>\n",
              "      <th>13</th>\n",
              "      <td>0.603061</td>\n",
              "      <td>0.966102</td>\n",
              "      <td>0.871457</td>\n",
              "      <td>0.80</td>\n",
              "    </tr>\n",
              "    <tr>\n",
              "      <th>14</th>\n",
              "      <td>0.585058</td>\n",
              "      <td>0.949153</td>\n",
              "      <td>0.854529</td>\n",
              "      <td>0.80</td>\n",
              "    </tr>\n",
              "    <tr>\n",
              "      <th>15</th>\n",
              "      <td>0.543845</td>\n",
              "      <td>0.966102</td>\n",
              "      <td>0.842624</td>\n",
              "      <td>0.70</td>\n",
              "    </tr>\n",
              "    <tr>\n",
              "      <th>16</th>\n",
              "      <td>0.541029</td>\n",
              "      <td>0.949153</td>\n",
              "      <td>0.830669</td>\n",
              "      <td>0.70</td>\n",
              "    </tr>\n",
              "    <tr>\n",
              "      <th>17</th>\n",
              "      <td>0.496076</td>\n",
              "      <td>0.983051</td>\n",
              "      <td>0.815794</td>\n",
              "      <td>0.75</td>\n",
              "    </tr>\n",
              "    <tr>\n",
              "      <th>18</th>\n",
              "      <td>0.477698</td>\n",
              "      <td>0.949153</td>\n",
              "      <td>0.801813</td>\n",
              "      <td>0.75</td>\n",
              "    </tr>\n",
              "    <tr>\n",
              "      <th>19</th>\n",
              "      <td>0.458899</td>\n",
              "      <td>0.983051</td>\n",
              "      <td>0.787332</td>\n",
              "      <td>0.75</td>\n",
              "    </tr>\n",
              "    <tr>\n",
              "      <th>20</th>\n",
              "      <td>0.423068</td>\n",
              "      <td>0.949153</td>\n",
              "      <td>0.776047</td>\n",
              "      <td>0.75</td>\n",
              "    </tr>\n",
              "    <tr>\n",
              "      <th>21</th>\n",
              "      <td>0.414138</td>\n",
              "      <td>1.000000</td>\n",
              "      <td>0.767122</td>\n",
              "      <td>0.80</td>\n",
              "    </tr>\n",
              "    <tr>\n",
              "      <th>22</th>\n",
              "      <td>0.412856</td>\n",
              "      <td>1.000000</td>\n",
              "      <td>0.758694</td>\n",
              "      <td>0.80</td>\n",
              "    </tr>\n",
              "    <tr>\n",
              "      <th>23</th>\n",
              "      <td>0.375931</td>\n",
              "      <td>0.983051</td>\n",
              "      <td>0.753770</td>\n",
              "      <td>0.85</td>\n",
              "    </tr>\n",
              "    <tr>\n",
              "      <th>24</th>\n",
              "      <td>0.358974</td>\n",
              "      <td>1.000000</td>\n",
              "      <td>0.748264</td>\n",
              "      <td>0.80</td>\n",
              "    </tr>\n",
              "    <tr>\n",
              "      <th>25</th>\n",
              "      <td>0.371725</td>\n",
              "      <td>1.000000</td>\n",
              "      <td>0.740352</td>\n",
              "      <td>0.80</td>\n",
              "    </tr>\n",
              "    <tr>\n",
              "      <th>26</th>\n",
              "      <td>0.334781</td>\n",
              "      <td>1.000000</td>\n",
              "      <td>0.732664</td>\n",
              "      <td>0.80</td>\n",
              "    </tr>\n",
              "    <tr>\n",
              "      <th>27</th>\n",
              "      <td>0.319257</td>\n",
              "      <td>1.000000</td>\n",
              "      <td>0.726072</td>\n",
              "      <td>0.80</td>\n",
              "    </tr>\n",
              "    <tr>\n",
              "      <th>28</th>\n",
              "      <td>0.347953</td>\n",
              "      <td>1.000000</td>\n",
              "      <td>0.719924</td>\n",
              "      <td>0.80</td>\n",
              "    </tr>\n",
              "    <tr>\n",
              "      <th>29</th>\n",
              "      <td>0.301813</td>\n",
              "      <td>1.000000</td>\n",
              "      <td>0.715463</td>\n",
              "      <td>0.80</td>\n",
              "    </tr>\n",
              "    <tr>\n",
              "      <th>30</th>\n",
              "      <td>0.287828</td>\n",
              "      <td>0.983051</td>\n",
              "      <td>0.711007</td>\n",
              "      <td>0.80</td>\n",
              "    </tr>\n",
              "    <tr>\n",
              "      <th>31</th>\n",
              "      <td>0.272597</td>\n",
              "      <td>1.000000</td>\n",
              "      <td>0.706628</td>\n",
              "      <td>0.75</td>\n",
              "    </tr>\n",
              "    <tr>\n",
              "      <th>32</th>\n",
              "      <td>0.267802</td>\n",
              "      <td>0.983051</td>\n",
              "      <td>0.702838</td>\n",
              "      <td>0.75</td>\n",
              "    </tr>\n",
              "    <tr>\n",
              "      <th>33</th>\n",
              "      <td>0.256973</td>\n",
              "      <td>1.000000</td>\n",
              "      <td>0.700675</td>\n",
              "      <td>0.80</td>\n",
              "    </tr>\n",
              "    <tr>\n",
              "      <th>34</th>\n",
              "      <td>0.265016</td>\n",
              "      <td>1.000000</td>\n",
              "      <td>0.698503</td>\n",
              "      <td>0.80</td>\n",
              "    </tr>\n",
              "    <tr>\n",
              "      <th>35</th>\n",
              "      <td>0.243954</td>\n",
              "      <td>1.000000</td>\n",
              "      <td>0.694884</td>\n",
              "      <td>0.80</td>\n",
              "    </tr>\n",
              "    <tr>\n",
              "      <th>36</th>\n",
              "      <td>0.251608</td>\n",
              "      <td>1.000000</td>\n",
              "      <td>0.692569</td>\n",
              "      <td>0.80</td>\n",
              "    </tr>\n",
              "    <tr>\n",
              "      <th>37</th>\n",
              "      <td>0.234108</td>\n",
              "      <td>1.000000</td>\n",
              "      <td>0.689462</td>\n",
              "      <td>0.80</td>\n",
              "    </tr>\n",
              "    <tr>\n",
              "      <th>38</th>\n",
              "      <td>0.222750</td>\n",
              "      <td>1.000000</td>\n",
              "      <td>0.686491</td>\n",
              "      <td>0.80</td>\n",
              "    </tr>\n",
              "    <tr>\n",
              "      <th>39</th>\n",
              "      <td>0.226434</td>\n",
              "      <td>1.000000</td>\n",
              "      <td>0.683870</td>\n",
              "      <td>0.80</td>\n",
              "    </tr>\n",
              "    <tr>\n",
              "      <th>40</th>\n",
              "      <td>0.227479</td>\n",
              "      <td>1.000000</td>\n",
              "      <td>0.681020</td>\n",
              "      <td>0.80</td>\n",
              "    </tr>\n",
              "    <tr>\n",
              "      <th>41</th>\n",
              "      <td>0.218450</td>\n",
              "      <td>0.983051</td>\n",
              "      <td>0.678246</td>\n",
              "      <td>0.80</td>\n",
              "    </tr>\n",
              "    <tr>\n",
              "      <th>42</th>\n",
              "      <td>0.202971</td>\n",
              "      <td>1.000000</td>\n",
              "      <td>0.677626</td>\n",
              "      <td>0.80</td>\n",
              "    </tr>\n",
              "    <tr>\n",
              "      <th>43</th>\n",
              "      <td>0.204579</td>\n",
              "      <td>1.000000</td>\n",
              "      <td>0.678126</td>\n",
              "      <td>0.80</td>\n",
              "    </tr>\n",
              "    <tr>\n",
              "      <th>44</th>\n",
              "      <td>0.198888</td>\n",
              "      <td>1.000000</td>\n",
              "      <td>0.674328</td>\n",
              "      <td>0.80</td>\n",
              "    </tr>\n",
              "    <tr>\n",
              "      <th>45</th>\n",
              "      <td>0.188755</td>\n",
              "      <td>1.000000</td>\n",
              "      <td>0.672770</td>\n",
              "      <td>0.80</td>\n",
              "    </tr>\n",
              "    <tr>\n",
              "      <th>46</th>\n",
              "      <td>0.179446</td>\n",
              "      <td>1.000000</td>\n",
              "      <td>0.672803</td>\n",
              "      <td>0.80</td>\n",
              "    </tr>\n",
              "    <tr>\n",
              "      <th>47</th>\n",
              "      <td>0.197434</td>\n",
              "      <td>1.000000</td>\n",
              "      <td>0.671215</td>\n",
              "      <td>0.80</td>\n",
              "    </tr>\n",
              "    <tr>\n",
              "      <th>48</th>\n",
              "      <td>0.181122</td>\n",
              "      <td>1.000000</td>\n",
              "      <td>0.670653</td>\n",
              "      <td>0.80</td>\n",
              "    </tr>\n",
              "    <tr>\n",
              "      <th>49</th>\n",
              "      <td>0.174493</td>\n",
              "      <td>1.000000</td>\n",
              "      <td>0.670490</td>\n",
              "      <td>0.80</td>\n",
              "    </tr>\n",
              "  </tbody>\n",
              "</table>\n",
              "</div>\n",
              "    <div class=\"colab-df-buttons\">\n",
              "\n",
              "  <div class=\"colab-df-container\">\n",
              "    <button class=\"colab-df-convert\" onclick=\"convertToInteractive('df-d932c095-a803-4ac3-a9a3-57b27b579fd5')\"\n",
              "            title=\"Convert this dataframe to an interactive table.\"\n",
              "            style=\"display:none;\">\n",
              "\n",
              "  <svg xmlns=\"http://www.w3.org/2000/svg\" height=\"24px\" viewBox=\"0 -960 960 960\">\n",
              "    <path d=\"M120-120v-720h720v720H120Zm60-500h600v-160H180v160Zm220 220h160v-160H400v160Zm0 220h160v-160H400v160ZM180-400h160v-160H180v160Zm440 0h160v-160H620v160ZM180-180h160v-160H180v160Zm440 0h160v-160H620v160Z\"/>\n",
              "  </svg>\n",
              "    </button>\n",
              "\n",
              "  <style>\n",
              "    .colab-df-container {\n",
              "      display:flex;\n",
              "      gap: 12px;\n",
              "    }\n",
              "\n",
              "    .colab-df-convert {\n",
              "      background-color: #E8F0FE;\n",
              "      border: none;\n",
              "      border-radius: 50%;\n",
              "      cursor: pointer;\n",
              "      display: none;\n",
              "      fill: #1967D2;\n",
              "      height: 32px;\n",
              "      padding: 0 0 0 0;\n",
              "      width: 32px;\n",
              "    }\n",
              "\n",
              "    .colab-df-convert:hover {\n",
              "      background-color: #E2EBFA;\n",
              "      box-shadow: 0px 1px 2px rgba(60, 64, 67, 0.3), 0px 1px 3px 1px rgba(60, 64, 67, 0.15);\n",
              "      fill: #174EA6;\n",
              "    }\n",
              "\n",
              "    .colab-df-buttons div {\n",
              "      margin-bottom: 4px;\n",
              "    }\n",
              "\n",
              "    [theme=dark] .colab-df-convert {\n",
              "      background-color: #3B4455;\n",
              "      fill: #D2E3FC;\n",
              "    }\n",
              "\n",
              "    [theme=dark] .colab-df-convert:hover {\n",
              "      background-color: #434B5C;\n",
              "      box-shadow: 0px 1px 3px 1px rgba(0, 0, 0, 0.15);\n",
              "      filter: drop-shadow(0px 1px 2px rgba(0, 0, 0, 0.3));\n",
              "      fill: #FFFFFF;\n",
              "    }\n",
              "  </style>\n",
              "\n",
              "    <script>\n",
              "      const buttonEl =\n",
              "        document.querySelector('#df-d932c095-a803-4ac3-a9a3-57b27b579fd5 button.colab-df-convert');\n",
              "      buttonEl.style.display =\n",
              "        google.colab.kernel.accessAllowed ? 'block' : 'none';\n",
              "\n",
              "      async function convertToInteractive(key) {\n",
              "        const element = document.querySelector('#df-d932c095-a803-4ac3-a9a3-57b27b579fd5');\n",
              "        const dataTable =\n",
              "          await google.colab.kernel.invokeFunction('convertToInteractive',\n",
              "                                                    [key], {});\n",
              "        if (!dataTable) return;\n",
              "\n",
              "        const docLinkHtml = 'Like what you see? Visit the ' +\n",
              "          '<a target=\"_blank\" href=https://colab.research.google.com/notebooks/data_table.ipynb>data table notebook</a>'\n",
              "          + ' to learn more about interactive tables.';\n",
              "        element.innerHTML = '';\n",
              "        dataTable['output_type'] = 'display_data';\n",
              "        await google.colab.output.renderOutput(dataTable, element);\n",
              "        const docLink = document.createElement('div');\n",
              "        docLink.innerHTML = docLinkHtml;\n",
              "        element.appendChild(docLink);\n",
              "      }\n",
              "    </script>\n",
              "  </div>\n",
              "\n",
              "\n",
              "<div id=\"df-695aee08-bf54-44ed-bd8f-ae885dac5fbe\">\n",
              "  <button class=\"colab-df-quickchart\" onclick=\"quickchart('df-695aee08-bf54-44ed-bd8f-ae885dac5fbe')\"\n",
              "            title=\"Suggest charts\"\n",
              "            style=\"display:none;\">\n",
              "\n",
              "<svg xmlns=\"http://www.w3.org/2000/svg\" height=\"24px\"viewBox=\"0 0 24 24\"\n",
              "     width=\"24px\">\n",
              "    <g>\n",
              "        <path d=\"M19 3H5c-1.1 0-2 .9-2 2v14c0 1.1.9 2 2 2h14c1.1 0 2-.9 2-2V5c0-1.1-.9-2-2-2zM9 17H7v-7h2v7zm4 0h-2V7h2v10zm4 0h-2v-4h2v4z\"/>\n",
              "    </g>\n",
              "</svg>\n",
              "  </button>\n",
              "\n",
              "<style>\n",
              "  .colab-df-quickchart {\n",
              "      --bg-color: #E8F0FE;\n",
              "      --fill-color: #1967D2;\n",
              "      --hover-bg-color: #E2EBFA;\n",
              "      --hover-fill-color: #174EA6;\n",
              "      --disabled-fill-color: #AAA;\n",
              "      --disabled-bg-color: #DDD;\n",
              "  }\n",
              "\n",
              "  [theme=dark] .colab-df-quickchart {\n",
              "      --bg-color: #3B4455;\n",
              "      --fill-color: #D2E3FC;\n",
              "      --hover-bg-color: #434B5C;\n",
              "      --hover-fill-color: #FFFFFF;\n",
              "      --disabled-bg-color: #3B4455;\n",
              "      --disabled-fill-color: #666;\n",
              "  }\n",
              "\n",
              "  .colab-df-quickchart {\n",
              "    background-color: var(--bg-color);\n",
              "    border: none;\n",
              "    border-radius: 50%;\n",
              "    cursor: pointer;\n",
              "    display: none;\n",
              "    fill: var(--fill-color);\n",
              "    height: 32px;\n",
              "    padding: 0;\n",
              "    width: 32px;\n",
              "  }\n",
              "\n",
              "  .colab-df-quickchart:hover {\n",
              "    background-color: var(--hover-bg-color);\n",
              "    box-shadow: 0 1px 2px rgba(60, 64, 67, 0.3), 0 1px 3px 1px rgba(60, 64, 67, 0.15);\n",
              "    fill: var(--button-hover-fill-color);\n",
              "  }\n",
              "\n",
              "  .colab-df-quickchart-complete:disabled,\n",
              "  .colab-df-quickchart-complete:disabled:hover {\n",
              "    background-color: var(--disabled-bg-color);\n",
              "    fill: var(--disabled-fill-color);\n",
              "    box-shadow: none;\n",
              "  }\n",
              "\n",
              "  .colab-df-spinner {\n",
              "    border: 2px solid var(--fill-color);\n",
              "    border-color: transparent;\n",
              "    border-bottom-color: var(--fill-color);\n",
              "    animation:\n",
              "      spin 1s steps(1) infinite;\n",
              "  }\n",
              "\n",
              "  @keyframes spin {\n",
              "    0% {\n",
              "      border-color: transparent;\n",
              "      border-bottom-color: var(--fill-color);\n",
              "      border-left-color: var(--fill-color);\n",
              "    }\n",
              "    20% {\n",
              "      border-color: transparent;\n",
              "      border-left-color: var(--fill-color);\n",
              "      border-top-color: var(--fill-color);\n",
              "    }\n",
              "    30% {\n",
              "      border-color: transparent;\n",
              "      border-left-color: var(--fill-color);\n",
              "      border-top-color: var(--fill-color);\n",
              "      border-right-color: var(--fill-color);\n",
              "    }\n",
              "    40% {\n",
              "      border-color: transparent;\n",
              "      border-right-color: var(--fill-color);\n",
              "      border-top-color: var(--fill-color);\n",
              "    }\n",
              "    60% {\n",
              "      border-color: transparent;\n",
              "      border-right-color: var(--fill-color);\n",
              "    }\n",
              "    80% {\n",
              "      border-color: transparent;\n",
              "      border-right-color: var(--fill-color);\n",
              "      border-bottom-color: var(--fill-color);\n",
              "    }\n",
              "    90% {\n",
              "      border-color: transparent;\n",
              "      border-bottom-color: var(--fill-color);\n",
              "    }\n",
              "  }\n",
              "</style>\n",
              "\n",
              "  <script>\n",
              "    async function quickchart(key) {\n",
              "      const quickchartButtonEl =\n",
              "        document.querySelector('#' + key + ' button');\n",
              "      quickchartButtonEl.disabled = true;  // To prevent multiple clicks.\n",
              "      quickchartButtonEl.classList.add('colab-df-spinner');\n",
              "      try {\n",
              "        const charts = await google.colab.kernel.invokeFunction(\n",
              "            'suggestCharts', [key], {});\n",
              "      } catch (error) {\n",
              "        console.error('Error during call to suggestCharts:', error);\n",
              "      }\n",
              "      quickchartButtonEl.classList.remove('colab-df-spinner');\n",
              "      quickchartButtonEl.classList.add('colab-df-quickchart-complete');\n",
              "    }\n",
              "    (() => {\n",
              "      let quickchartButtonEl =\n",
              "        document.querySelector('#df-695aee08-bf54-44ed-bd8f-ae885dac5fbe button');\n",
              "      quickchartButtonEl.style.display =\n",
              "        google.colab.kernel.accessAllowed ? 'block' : 'none';\n",
              "    })();\n",
              "  </script>\n",
              "</div>\n",
              "\n",
              "  <div id=\"id_a58388e1-7131-4756-855b-7eb7944c5d14\">\n",
              "    <style>\n",
              "      .colab-df-generate {\n",
              "        background-color: #E8F0FE;\n",
              "        border: none;\n",
              "        border-radius: 50%;\n",
              "        cursor: pointer;\n",
              "        display: none;\n",
              "        fill: #1967D2;\n",
              "        height: 32px;\n",
              "        padding: 0 0 0 0;\n",
              "        width: 32px;\n",
              "      }\n",
              "\n",
              "      .colab-df-generate:hover {\n",
              "        background-color: #E2EBFA;\n",
              "        box-shadow: 0px 1px 2px rgba(60, 64, 67, 0.3), 0px 1px 3px 1px rgba(60, 64, 67, 0.15);\n",
              "        fill: #174EA6;\n",
              "      }\n",
              "\n",
              "      [theme=dark] .colab-df-generate {\n",
              "        background-color: #3B4455;\n",
              "        fill: #D2E3FC;\n",
              "      }\n",
              "\n",
              "      [theme=dark] .colab-df-generate:hover {\n",
              "        background-color: #434B5C;\n",
              "        box-shadow: 0px 1px 3px 1px rgba(0, 0, 0, 0.15);\n",
              "        filter: drop-shadow(0px 1px 2px rgba(0, 0, 0, 0.3));\n",
              "        fill: #FFFFFF;\n",
              "      }\n",
              "    </style>\n",
              "    <button class=\"colab-df-generate\" onclick=\"generateWithVariable('loss_df')\"\n",
              "            title=\"Generate code using this dataframe.\"\n",
              "            style=\"display:none;\">\n",
              "\n",
              "  <svg xmlns=\"http://www.w3.org/2000/svg\" height=\"24px\"viewBox=\"0 0 24 24\"\n",
              "       width=\"24px\">\n",
              "    <path d=\"M7,19H8.4L18.45,9,17,7.55,7,17.6ZM5,21V16.75L18.45,3.32a2,2,0,0,1,2.83,0l1.4,1.43a1.91,1.91,0,0,1,.58,1.4,1.91,1.91,0,0,1-.58,1.4L9.25,21ZM18.45,9,17,7.55Zm-12,3A5.31,5.31,0,0,0,4.9,8.1,5.31,5.31,0,0,0,1,6.5,5.31,5.31,0,0,0,4.9,4.9,5.31,5.31,0,0,0,6.5,1,5.31,5.31,0,0,0,8.1,4.9,5.31,5.31,0,0,0,12,6.5,5.46,5.46,0,0,0,6.5,12Z\"/>\n",
              "  </svg>\n",
              "    </button>\n",
              "    <script>\n",
              "      (() => {\n",
              "      const buttonEl =\n",
              "        document.querySelector('#id_a58388e1-7131-4756-855b-7eb7944c5d14 button.colab-df-generate');\n",
              "      buttonEl.style.display =\n",
              "        google.colab.kernel.accessAllowed ? 'block' : 'none';\n",
              "\n",
              "      buttonEl.onclick = () => {\n",
              "        google.colab.notebook.generateWithVariable('loss_df');\n",
              "      }\n",
              "      })();\n",
              "    </script>\n",
              "  </div>\n",
              "\n",
              "    </div>\n",
              "  </div>\n"
            ],
            "text/plain": [
              "        loss       acc  val_loss  val_acc\n",
              "0   1.372013  0.288136  1.280357     0.40\n",
              "1   1.269326  0.525424  1.244354     0.45\n",
              "2   1.201089  0.593220  1.216314     0.45\n",
              "3   1.148921  0.576271  1.161415     0.50\n",
              "4   1.049823  0.745763  1.114087     0.60\n",
              "5   0.984806  0.830508  1.080170     0.60\n",
              "6   0.910411  0.830508  1.050297     0.65\n",
              "7   0.879961  0.847458  1.019923     0.70\n",
              "8   0.814205  0.915254  0.988746     0.75\n",
              "9   0.762935  0.949153  0.958785     0.65\n",
              "10  0.714020  0.932203  0.935375     0.75\n",
              "11  0.677488  0.949153  0.913213     0.70\n",
              "12  0.687586  0.915254  0.891234     0.80\n",
              "13  0.603061  0.966102  0.871457     0.80\n",
              "14  0.585058  0.949153  0.854529     0.80\n",
              "15  0.543845  0.966102  0.842624     0.70\n",
              "16  0.541029  0.949153  0.830669     0.70\n",
              "17  0.496076  0.983051  0.815794     0.75\n",
              "18  0.477698  0.949153  0.801813     0.75\n",
              "19  0.458899  0.983051  0.787332     0.75\n",
              "20  0.423068  0.949153  0.776047     0.75\n",
              "21  0.414138  1.000000  0.767122     0.80\n",
              "22  0.412856  1.000000  0.758694     0.80\n",
              "23  0.375931  0.983051  0.753770     0.85\n",
              "24  0.358974  1.000000  0.748264     0.80\n",
              "25  0.371725  1.000000  0.740352     0.80\n",
              "26  0.334781  1.000000  0.732664     0.80\n",
              "27  0.319257  1.000000  0.726072     0.80\n",
              "28  0.347953  1.000000  0.719924     0.80\n",
              "29  0.301813  1.000000  0.715463     0.80\n",
              "30  0.287828  0.983051  0.711007     0.80\n",
              "31  0.272597  1.000000  0.706628     0.75\n",
              "32  0.267802  0.983051  0.702838     0.75\n",
              "33  0.256973  1.000000  0.700675     0.80\n",
              "34  0.265016  1.000000  0.698503     0.80\n",
              "35  0.243954  1.000000  0.694884     0.80\n",
              "36  0.251608  1.000000  0.692569     0.80\n",
              "37  0.234108  1.000000  0.689462     0.80\n",
              "38  0.222750  1.000000  0.686491     0.80\n",
              "39  0.226434  1.000000  0.683870     0.80\n",
              "40  0.227479  1.000000  0.681020     0.80\n",
              "41  0.218450  0.983051  0.678246     0.80\n",
              "42  0.202971  1.000000  0.677626     0.80\n",
              "43  0.204579  1.000000  0.678126     0.80\n",
              "44  0.198888  1.000000  0.674328     0.80\n",
              "45  0.188755  1.000000  0.672770     0.80\n",
              "46  0.179446  1.000000  0.672803     0.80\n",
              "47  0.197434  1.000000  0.671215     0.80\n",
              "48  0.181122  1.000000  0.670653     0.80\n",
              "49  0.174493  1.000000  0.670490     0.80"
            ]
          },
          "execution_count": 427,
          "metadata": {},
          "output_type": "execute_result"
        }
      ],
      "source": [
        "loss_df=pd.DataFrame({\"loss\":loss,\"acc\":acc,\"val_loss\":tloss,\"val_acc\":tacc})\n",
        "loss_df"
      ]
    },
    {
      "cell_type": "code",
      "execution_count": 428,
      "metadata": {
        "colab": {
          "base_uri": "https://localhost:8080/",
          "height": 81
        },
        "id": "uYIFb7Q4qvQA",
        "outputId": "94ac02b4-3c9f-4dc0-c751-01af8be7beb1"
      },
      "outputs": [
        {
          "data": {
            "text/html": [
              "\n",
              "  <div id=\"df-03391cb5-173d-4a45-9ea0-51b41b567471\" class=\"colab-df-container\">\n",
              "    <div>\n",
              "<style scoped>\n",
              "    .dataframe tbody tr th:only-of-type {\n",
              "        vertical-align: middle;\n",
              "    }\n",
              "\n",
              "    .dataframe tbody tr th {\n",
              "        vertical-align: top;\n",
              "    }\n",
              "\n",
              "    .dataframe thead th {\n",
              "        text-align: right;\n",
              "    }\n",
              "</style>\n",
              "<table border=\"1\" class=\"dataframe\">\n",
              "  <thead>\n",
              "    <tr style=\"text-align: right;\">\n",
              "      <th></th>\n",
              "      <th>loss</th>\n",
              "      <th>acc</th>\n",
              "      <th>val_loss</th>\n",
              "      <th>val_acc</th>\n",
              "    </tr>\n",
              "  </thead>\n",
              "  <tbody>\n",
              "    <tr>\n",
              "      <th>49</th>\n",
              "      <td>0.174493</td>\n",
              "      <td>1.0</td>\n",
              "      <td>0.67049</td>\n",
              "      <td>0.8</td>\n",
              "    </tr>\n",
              "  </tbody>\n",
              "</table>\n",
              "</div>\n",
              "    <div class=\"colab-df-buttons\">\n",
              "\n",
              "  <div class=\"colab-df-container\">\n",
              "    <button class=\"colab-df-convert\" onclick=\"convertToInteractive('df-03391cb5-173d-4a45-9ea0-51b41b567471')\"\n",
              "            title=\"Convert this dataframe to an interactive table.\"\n",
              "            style=\"display:none;\">\n",
              "\n",
              "  <svg xmlns=\"http://www.w3.org/2000/svg\" height=\"24px\" viewBox=\"0 -960 960 960\">\n",
              "    <path d=\"M120-120v-720h720v720H120Zm60-500h600v-160H180v160Zm220 220h160v-160H400v160Zm0 220h160v-160H400v160ZM180-400h160v-160H180v160Zm440 0h160v-160H620v160ZM180-180h160v-160H180v160Zm440 0h160v-160H620v160Z\"/>\n",
              "  </svg>\n",
              "    </button>\n",
              "\n",
              "  <style>\n",
              "    .colab-df-container {\n",
              "      display:flex;\n",
              "      gap: 12px;\n",
              "    }\n",
              "\n",
              "    .colab-df-convert {\n",
              "      background-color: #E8F0FE;\n",
              "      border: none;\n",
              "      border-radius: 50%;\n",
              "      cursor: pointer;\n",
              "      display: none;\n",
              "      fill: #1967D2;\n",
              "      height: 32px;\n",
              "      padding: 0 0 0 0;\n",
              "      width: 32px;\n",
              "    }\n",
              "\n",
              "    .colab-df-convert:hover {\n",
              "      background-color: #E2EBFA;\n",
              "      box-shadow: 0px 1px 2px rgba(60, 64, 67, 0.3), 0px 1px 3px 1px rgba(60, 64, 67, 0.15);\n",
              "      fill: #174EA6;\n",
              "    }\n",
              "\n",
              "    .colab-df-buttons div {\n",
              "      margin-bottom: 4px;\n",
              "    }\n",
              "\n",
              "    [theme=dark] .colab-df-convert {\n",
              "      background-color: #3B4455;\n",
              "      fill: #D2E3FC;\n",
              "    }\n",
              "\n",
              "    [theme=dark] .colab-df-convert:hover {\n",
              "      background-color: #434B5C;\n",
              "      box-shadow: 0px 1px 3px 1px rgba(0, 0, 0, 0.15);\n",
              "      filter: drop-shadow(0px 1px 2px rgba(0, 0, 0, 0.3));\n",
              "      fill: #FFFFFF;\n",
              "    }\n",
              "  </style>\n",
              "\n",
              "    <script>\n",
              "      const buttonEl =\n",
              "        document.querySelector('#df-03391cb5-173d-4a45-9ea0-51b41b567471 button.colab-df-convert');\n",
              "      buttonEl.style.display =\n",
              "        google.colab.kernel.accessAllowed ? 'block' : 'none';\n",
              "\n",
              "      async function convertToInteractive(key) {\n",
              "        const element = document.querySelector('#df-03391cb5-173d-4a45-9ea0-51b41b567471');\n",
              "        const dataTable =\n",
              "          await google.colab.kernel.invokeFunction('convertToInteractive',\n",
              "                                                    [key], {});\n",
              "        if (!dataTable) return;\n",
              "\n",
              "        const docLinkHtml = 'Like what you see? Visit the ' +\n",
              "          '<a target=\"_blank\" href=https://colab.research.google.com/notebooks/data_table.ipynb>data table notebook</a>'\n",
              "          + ' to learn more about interactive tables.';\n",
              "        element.innerHTML = '';\n",
              "        dataTable['output_type'] = 'display_data';\n",
              "        await google.colab.output.renderOutput(dataTable, element);\n",
              "        const docLink = document.createElement('div');\n",
              "        docLink.innerHTML = docLinkHtml;\n",
              "        element.appendChild(docLink);\n",
              "      }\n",
              "    </script>\n",
              "  </div>\n",
              "\n",
              "\n",
              "    </div>\n",
              "  </div>\n"
            ],
            "text/plain": [
              "        loss  acc  val_loss  val_acc\n",
              "49  0.174493  1.0   0.67049      0.8"
            ]
          },
          "execution_count": 428,
          "metadata": {},
          "output_type": "execute_result"
        }
      ],
      "source": [
        "loss_df[loss_df[\"val_loss\"]==loss_df[\"val_loss\"].min()]"
      ]
    },
    {
      "cell_type": "code",
      "execution_count": 429,
      "metadata": {
        "colab": {
          "base_uri": "https://localhost:8080/",
          "height": 390
        },
        "id": "qv2eyXr6Uz5L",
        "outputId": "196c6a79-ed6c-4a07-b0cd-b3e0cff30fb8"
      },
      "outputs": [
        {
          "data": {
            "image/png": "[encoded data removed]",
            "text/plain": [
              "<Figure size 1500x600 with 2 Axes>"
            ]
          },
          "metadata": {},
          "output_type": "display_data"
        }
      ],
      "source": [
        "plot_tf_hist(loss_df)"
      ]
    },
    {
      "cell_type": "code",
      "execution_count": 430,
      "metadata": {
        "id": "ewwXqiI4A4rO"
      },
      "outputs": [],
      "source": [
        "def val_frames_extraction(video_path,SEQUENCE_LENGTH=9,TIME_SECODNS=3):\n",
        "    '''\n",
        "    This function will extract the required frames from a video after resizing and normalizing them.\n",
        "    Args:\n",
        "        video_path: The path of the video in the disk, whose frames are to be extracted.\n",
        "    Returns:\n",
        "        frames_list: A list containing the resized and normalized frames of the video.\n",
        "    '''\n",
        "\n",
        "    # Declare a list to store video frames.\n",
        "\n",
        "    frames_list = []\n",
        "    vid_list=[]\n",
        "    # Read the Video File using the VideoCapture object.\n",
        "    video_reader = cv2.VideoCapture(video_path)\n",
        "    # Get Frame counts\n",
        "    frame_count=video_reader.get(cv2.CAP_PROP_FRAME_COUNT)\n",
        "    # Get FPS\n",
        "    FPS=video_reader.get(cv2.CAP_PROP_FPS)\n",
        "    # Find video length\n",
        "    vid_len=frame_count/FPS\n",
        "    # Finding frames in 3 seconds window\n",
        "    thresh_frames=int(TIME_SECODNS*FPS)\n",
        "\n",
        "    # Get the total number of frames in the video.\n",
        "    # video_frames_count = int(video_reader.get(cv2.CAP_PROP_FRAME_COUNT))\n",
        "\n",
        "    # Calculate the the interval after which frames will be added to the list.\n",
        "    # as we need 10 frames for each 3 second video\n",
        "    skip_frames_window = max(int(thresh_frames/SEQUENCE_LENGTH), 1)\n",
        "\n",
        "    # Iterate through the Video Frames.\n",
        "    n_videos=int(vid_len/3)\n",
        "    print(vid_len/3, f\"So dividing into {n_videos} sub videos\")\n",
        "    for i in range(n_videos):\n",
        "      count=i*SEQUENCE_LENGTH\n",
        "      for frame_counter in range(SEQUENCE_LENGTH):\n",
        "          # Set the current frame position of the video.\n",
        "          video_reader.set(cv2.CAP_PROP_POS_FRAMES, (count+frame_counter) * skip_frames_window)\n",
        "\n",
        "          # Reading the frame from the video.\n",
        "          success, frame = video_reader.read()\n",
        "\n",
        "          # Check if Video frame is not successfully read then break the loop\n",
        "          if not success:\n",
        "              break\n",
        "\n",
        "          # Resize the Frame to fixed height and width.\n",
        "          resized_frame = cv2.resize(frame, (IMAGE_HEIGHT, IMAGE_WIDTH))\n",
        "\n",
        "          # Normalize the resized frame by dividing it with 255 so that each pixel value then lies between 0 and 1\n",
        "          normalized_frame = resized_frame / 255\n",
        "\n",
        "          # Append the normalized frame into the frames list\n",
        "          frames_list.append(normalized_frame)\n",
        "\n",
        "      vid_list.append(frames_list)\n",
        "      frames_list =[]\n",
        "\n",
        "    # Release the VideoCapture object.\n",
        "    video_reader.release()\n",
        "\n",
        "    # Return the frames list.\n",
        "    return vid_list"
      ]
    },
    {
      "cell_type": "code",
      "execution_count": 433,
      "metadata": {
        "id": "kd3ajww4A4oo"
      },
      "outputs": [],
      "source": [
        "\n",
        "def preprocess_pred_1(video_file_path):\n",
        "    # video_file_path = \"/content/run_test1.mp4\"\n",
        "    features=[]\n",
        "    # Extract the frames of the video file.\n",
        "    vid_list = val_frames_extraction(video_file_path)     \n",
        "\n",
        "    # Converting the sub list to numpy arrays and apply transforms\n",
        "    for i in range(len(vid_list)):\n",
        "      vid_list[i]=np.asarray([vid_list[i]])\n",
        "      vid_list[i]=apply_tansforms(vid_list[i])[0]\n",
        "\n",
        "    # Return the frames, class index, and video file path.\n",
        "    return vid_list"
      ]
    },
    {
      "cell_type": "code",
      "execution_count": 450,
      "metadata": {
        "colab": {
          "base_uri": "https://localhost:8080/"
        },
        "id": "ucKELAg_A8BS",
        "outputId": "297554a4-3b62-422f-fe6c-1b390ca7caa7"
      },
      "outputs": [
        {
          "name": "stdout",
          "output_type": "stream",
          "text": [
            "4.986111111111112 So dividing into 4 sub videos\n"
          ]
        }
      ],
      "source": [
        "features_1=preprocess_pred_1(\"/content/exectest.mp4\")"
      ]
    },
    {
      "cell_type": "code",
      "execution_count": 451,
      "metadata": {
        "id": "LhInqGToBD8j"
      },
      "outputs": [],
      "source": [
        "with torch.no_grad():\n",
        "    model.eval()\n",
        "    y_preds=[]\n",
        "    y_probas=[]\n",
        "    for i in features_1:\n",
        "      pred=model(i.unsqueeze(0).to(device))\n",
        "      # print(pred[0])\n",
        "      probas=(F.softmax(pred[0],dim=0))\n",
        "      pred=torch.argmax(pred, dim = 1).to(\"cpu\").numpy()\n",
        "      y_preds.append(pred)\n",
        "      y_probas.append(probas)"
      ]
    },
    {
      "cell_type": "code",
      "execution_count": 453,
      "metadata": {
        "colab": {
          "base_uri": "https://localhost:8080/"
        },
        "id": "wVKgCs6vBSwi",
        "outputId": "5c5d0784-a766-4788-9ebf-4736a88aaacf"
      },
      "outputs": [
        {
          "name": "stdout",
          "output_type": "stream",
          "text": [
            "['Person Walking', 'Person Running', 'Person Exercising', 'Person Eating']\n",
            "tensor([0.0172, 0.0253, 0.8566, 0.1009], device='cuda:0') Person Exercising\n",
            "tensor([0.0078, 0.0249, 0.8835, 0.0838], device='cuda:0') Person Exercising\n",
            "tensor([0.0174, 0.0169, 0.9020, 0.0637], device='cuda:0') Person Exercising\n",
            "tensor([0.0046, 0.0198, 0.9387, 0.0370], device='cuda:0') Person Exercising\n"
          ]
        }
      ],
      "source": [
        "print(CLASSES_LIST)\n",
        "class_predictions=[CLASSES_LIST[i[0]] for i in y_preds]\n",
        "for i,j in zip(y_probas,class_predictions):\n",
        "  print(i,j)"
      ]
    },
    {
      "cell_type": "code",
      "execution_count": 454,
      "metadata": {
        "id": "kRg9Cn1hBZXi"
      },
      "outputs": [],
      "source": [
        "import joblib"
      ]
    },
    {
      "cell_type": "code",
      "execution_count": 456,
      "metadata": {
        "colab": {
          "base_uri": "https://localhost:8080/"
        },
        "id": "BqYDtWugf0OJ",
        "outputId": "e51db37e-1adb-45e8-bb81-84872beaba7d"
      },
      "outputs": [
        {
          "data": {
            "text/plain": [
              "['act_1.pkl']"
            ]
          },
          "execution_count": 456,
          "metadata": {},
          "output_type": "execute_result"
        }
      ],
      "source": [
        "model1=model.to(\"cpu\")\n",
        "joblib.dump(model1,\"act_1.pkl\")"
      ]
    }
  ],
  "metadata": {
    "accelerator": "GPU",
    "colab": {
      "gpuType": "T4",
      "provenance": []
    },
    "kernelspec": {
      "display_name": "Python 3",
      "name": "python3"
    },
    "language_info": {
      "name": "python",
      "version": "3.11.5"
    }
  },
  "nbformat": 4,
  "nbformat_minor": 0
}
